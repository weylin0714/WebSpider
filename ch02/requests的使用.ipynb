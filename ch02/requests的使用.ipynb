{
 "cells": [
  {
   "cell_type": "markdown",
   "metadata": {},
   "source": [
    "在Python中，利用第三方库requests可以非常方便地模拟网络请求。"
   ]
  },
  {
   "cell_type": "markdown",
   "metadata": {},
   "source": [
    "# 安装requests"
   ]
  },
  {
   "cell_type": "markdown",
   "metadata": {},
   "source": [
    "requests是Python的第三方库"
   ]
  },
  {
   "cell_type": "code",
   "execution_count": 1,
   "metadata": {},
   "outputs": [
    {
     "name": "stdout",
     "output_type": "stream",
     "text": [
      "Requirement already satisfied: requests in d:\\install\\anaconda3\\lib\\site-packages (2.24.0)\n",
      "Requirement already satisfied: urllib3!=1.25.0,!=1.25.1,<1.26,>=1.21.1 in d:\\install\\anaconda3\\lib\\site-packages (from requests) (1.25.9)\n",
      "Requirement already satisfied: chardet<4,>=3.0.2 in d:\\install\\anaconda3\\lib\\site-packages (from requests) (3.0.4)\n",
      "Requirement already satisfied: certifi>=2017.4.17 in d:\\install\\anaconda3\\lib\\site-packages (from requests) (2020.6.20)\n",
      "Requirement already satisfied: idna<3,>=2.5 in d:\\install\\anaconda3\\lib\\site-packages (from requests) (2.10)\n",
      "Note: you may need to restart the kernel to use updated packages.\n"
     ]
    }
   ],
   "source": [
    "pip install requests"
   ]
  },
  {
   "cell_type": "markdown",
   "metadata": {},
   "source": [
    "# 实例引入"
   ]
  },
  {
   "cell_type": "markdown",
   "metadata": {},
   "source": [
    "用Python写爬虫的第一步就是模拟发起一个请求，获取网页的源代码。我们基于一个大牛发布的[爬虫练习平台](https://scrape.center/)进行学习。"
   ]
  },
  {
   "cell_type": "code",
   "execution_count": 1,
   "metadata": {},
   "outputs": [],
   "source": [
    "import requests\n",
    "\n",
    "r = requests.get(\"https://ssr1.scrape.center/\")\n",
    "# print(r.text)"
   ]
  },
  {
   "cell_type": "markdown",
   "metadata": {},
   "source": [
    "执行上述脚本，我们获取到网页源码，进一步把想要的数据提取出来，数据的爬取就完成了。"
   ]
  },
  {
   "cell_type": "markdown",
   "metadata": {},
   "source": [
    "# 请求"
   ]
  },
  {
   "cell_type": "markdown",
   "metadata": {},
   "source": [
    "## GET请求"
   ]
  },
  {
   "cell_type": "code",
   "execution_count": 1,
   "metadata": {},
   "outputs": [
    {
     "name": "stdout",
     "output_type": "stream",
     "text": [
      "{\n",
      "  \"args\": {}, \n",
      "  \"headers\": {\n",
      "    \"Accept\": \"*/*\", \n",
      "    \"Accept-Encoding\": \"gzip, deflate\", \n",
      "    \"Host\": \"httpbin.org\", \n",
      "    \"User-Agent\": \"python-requests/2.24.0\", \n",
      "    \"X-Amzn-Trace-Id\": \"Root=1-5f47cd87-4df3df14a43ba1b0154899b2\"\n",
      "  }, \n",
      "  \"origin\": \"114.84.169.66\", \n",
      "  \"url\": \"http://httpbin.org/get\"\n",
      "}\n",
      "\n"
     ]
    }
   ],
   "source": [
    "import requests  \n",
    "\n",
    "r = requests.get('http://httpbin.org/get')  \n",
    "print(r.text)"
   ]
  },
  {
   "cell_type": "code",
   "execution_count": 3,
   "metadata": {},
   "outputs": [
    {
     "name": "stdout",
     "output_type": "stream",
     "text": [
      "{\n",
      "  \"args\": {\n",
      "    \"age\": \"27\", \n",
      "    \"name\": \"lin\"\n",
      "  }, \n",
      "  \"headers\": {\n",
      "    \"Accept\": \"*/*\", \n",
      "    \"Accept-Encoding\": \"gzip, deflate\", \n",
      "    \"Host\": \"httpbin.org\", \n",
      "    \"User-Agent\": \"python-requests/2.24.0\", \n",
      "    \"X-Amzn-Trace-Id\": \"Root=1-5f47ce1c-38b6686251d5ab2b18fa9267\"\n",
      "  }, \n",
      "  \"origin\": \"114.84.169.66\", \n",
      "  \"url\": \"http://httpbin.org/get?name=lin&age=27\"\n",
      "}\n",
      "\n"
     ]
    }
   ],
   "source": [
    "# URL传入参数\n",
    "import requests  \n",
    "\n",
    "data = {  \n",
    "    'name': 'lin',  \n",
    "    'age': 27\n",
    "}  \n",
    "r = requests.get('http://httpbin.org/get', params=data)  \n",
    "print(r.text)"
   ]
  },
  {
   "cell_type": "code",
   "execution_count": 4,
   "metadata": {},
   "outputs": [
    {
     "name": "stdout",
     "output_type": "stream",
     "text": [
      "<class 'str'>\n",
      "<class 'dict'>\n",
      "{'args': {}, 'headers': {'Accept': '*/*', 'Accept-Encoding': 'gzip, deflate', 'Host': 'httpbin.org', 'User-Agent': 'python-requests/2.24.0', 'X-Amzn-Trace-Id': 'Root=1-5f47cea7-949008827e48ba1c4413839c'}, 'origin': '114.84.169.66', 'url': 'http://httpbin.org/get'}\n"
     ]
    }
   ],
   "source": [
    "# 请求返回的结果为json字符串，可调用json()方法返回字典格式\n",
    "import requests  \n",
    "\n",
    "r = requests.get('http://httpbin.org/get')  \n",
    "print(type(r.text))  \n",
    "print(type(r.json()))\n",
    "print(r.json())  "
   ]
  },
  {
   "cell_type": "markdown",
   "metadata": {},
   "source": [
    "### 抓取网页"
   ]
  },
  {
   "cell_type": "code",
   "execution_count": 3,
   "metadata": {},
   "outputs": [
    {
     "name": "stdout",
     "output_type": "stream",
     "text": [
      "['霸王别姬 - Farewell My Concubine', '这个杀手不太冷 - Léon', '肖申克的救赎 - The Shawshank Redemption', '泰坦尼克号 - Titanic', '罗马假日 - Roman Holiday', '唐伯虎点秋香 - Flirting Scholar', '乱世佳人 - Gone with the Wind', '喜剧之王 - The King of Comedy', '楚门的世界 - The Truman Show', '狮子王 - The Lion King']\n"
     ]
    }
   ],
   "source": [
    "import requests\n",
    "import re\n",
    "\n",
    "r = requests.get('https://static1.scrape.cuiqingcai.com/')\n",
    "titles = re.findall('<h2.*?>(.*?)</h2>', r.text)\n",
    "print(titles)"
   ]
  },
  {
   "cell_type": "markdown",
   "metadata": {},
   "source": [
    "### 抓取二进制数据"
   ]
  },
  {
   "cell_type": "code",
   "execution_count": 5,
   "metadata": {},
   "outputs": [],
   "source": [
    "import requests\n",
    "\n",
    "r = requests.get('https://github.com/favicon.ico')\n",
    "with open('E:/favicon.ico', 'wb') as f:\n",
    "    f.write(r.content)"
   ]
  },
  {
   "cell_type": "markdown",
   "metadata": {},
   "source": [
    "把二进制数据成功保存成一张图片了，这个小图标就被我们成功爬取下来了。同样地，音频和视频文件我们也可以用这种方法获取。"
   ]
  },
  {
   "cell_type": "markdown",
   "metadata": {},
   "source": [
    "### 添加headers"
   ]
  },
  {
   "cell_type": "markdown",
   "metadata": {},
   "source": [
    "在发起一个 HTTP 请求的时候，会有一个请求头 Request Headers，使用 headers 参数就可以完成设置。"
   ]
  },
  {
   "cell_type": "code",
   "execution_count": 7,
   "metadata": {},
   "outputs": [],
   "source": [
    "import requests\n",
    "\n",
    "\n",
    "headers = {\n",
    "    'User-Agent': 'Mozilla/5.0 (Macintosh; Intel Mac OS X 10_11_4) AppleWebKit/537.36 (KHTML, like Gecko) Chrome/52.0.2743.116 Safari/537.36'\n",
    "}\n",
    "r = requests.get('https://static1.scrape.cuiqingcai.com/', headers=headers)\n",
    "# print(r.text)"
   ]
  },
  {
   "cell_type": "markdown",
   "metadata": {},
   "source": [
    "## POST请求"
   ]
  },
  {
   "cell_type": "code",
   "execution_count": 8,
   "metadata": {},
   "outputs": [
    {
     "name": "stdout",
     "output_type": "stream",
     "text": [
      "{\n",
      "  \"args\": {}, \n",
      "  \"data\": \"\", \n",
      "  \"files\": {}, \n",
      "  \"form\": {\n",
      "    \"age\": \"27\", \n",
      "    \"name\": \"lin\"\n",
      "  }, \n",
      "  \"headers\": {\n",
      "    \"Accept\": \"*/*\", \n",
      "    \"Accept-Encoding\": \"gzip, deflate\", \n",
      "    \"Content-Length\": \"15\", \n",
      "    \"Content-Type\": \"application/x-www-form-urlencoded\", \n",
      "    \"Host\": \"httpbin.org\", \n",
      "    \"User-Agent\": \"python-requests/2.24.0\", \n",
      "    \"X-Amzn-Trace-Id\": \"Root=1-5f4b4302-ab2a5a923e96ffd793b0dcef\"\n",
      "  }, \n",
      "  \"json\": null, \n",
      "  \"origin\": \"114.84.169.66\", \n",
      "  \"url\": \"http://httpbin.org/post\"\n",
      "}\n",
      "\n"
     ]
    }
   ],
   "source": [
    "import requests\n",
    "\n",
    "data = {'name': 'lin', 'age': '27'}\n",
    "r = requests.post(\"http://httpbin.org/post\", data=data)\n",
    "print(r.text)"
   ]
  },
  {
   "cell_type": "markdown",
   "metadata": {},
   "source": [
    "## 响应"
   ]
  },
  {
   "cell_type": "markdown",
   "metadata": {},
   "source": [
    "我们可以使用 text 和 content 获取了响应的内容。此外，此外，还有很多属性和方法可以用来获取其他信息，比如状态码、响应头、Cookies 等。"
   ]
  },
  {
   "cell_type": "code",
   "execution_count": 10,
   "metadata": {},
   "outputs": [
    {
     "name": "stdout",
     "output_type": "stream",
     "text": [
      "<class 'int'> 200\n",
      "<class 'requests.structures.CaseInsensitiveDict'> {'Server': 'nginx/1.17.8', 'Date': 'Sun, 30 Aug 2020 06:14:20 GMT', 'Content-Type': 'text/html; charset=utf-8', 'Transfer-Encoding': 'chunked', 'Connection': 'keep-alive', 'Vary': 'Accept-Encoding', 'X-Frame-Options': 'DENY', 'X-Content-Type-Options': 'nosniff', 'Strict-Transport-Security': 'max-age=15724800; includeSubDomains', 'Content-Encoding': 'gzip'}\n",
      "<class 'requests.cookies.RequestsCookieJar'> <RequestsCookieJar[]>\n",
      "<class 'str'> https://static1.scrape.cuiqingcai.com/\n",
      "<class 'list'> []\n"
     ]
    }
   ],
   "source": [
    "import requests\n",
    "\n",
    "r = requests.get('https://static1.scrape.cuiqingcai.com/')\n",
    "print(type(r.status_code), r.status_code)   # 状态码\n",
    "print(type(r.headers), r.headers)  # 响应头\n",
    "print(type(r.cookies), r.cookies)  # cookies\n",
    "print(type(r.url), r.url)  # URL\n",
    "print(type(r.history), r.history) # 请求历史"
   ]
  },
  {
   "cell_type": "markdown",
   "metadata": {},
   "source": [
    "requests 还提供了一个内置的状态码查询对象 requests.codes"
   ]
  },
  {
   "cell_type": "code",
   "execution_count": 13,
   "metadata": {},
   "outputs": [
    {
     "name": "stdout",
     "output_type": "stream",
     "text": [
      "Request Successfully\n"
     ]
    }
   ],
   "source": [
    "import requests\n",
    "\n",
    "r = requests.get('https://static1.scrape.cuiqingcai.com/')\n",
    "exit() if not r.status_code == requests.codes.ok else print('Request Successfully')"
   ]
  },
  {
   "cell_type": "markdown",
   "metadata": {},
   "source": [
    "**返回码和相应的查询条件：**"
   ]
  },
  {
   "cell_type": "raw",
   "metadata": {},
   "source": [
    "# 信息性状态码  \n",
    "100: ('continue',),  \n",
    "101: ('switching_protocols',),  \n",
    "102: ('processing',),  \n",
    "103: ('checkpoint',),  \n",
    "122: ('uri_too_long', 'request_uri_too_long'),  \n",
    "\n",
    "# 成功状态码  \n",
    "200: ('ok', 'okay', 'all_ok', 'all_okay', 'all_good', '\\\\o/', '✓'),  \n",
    "201: ('created',),  \n",
    "202: ('accepted',),  \n",
    "203: ('non_authoritative_info', 'non_authoritative_information'),  \n",
    "204: ('no_content',),  \n",
    "205: ('reset_content', 'reset'),  \n",
    "206: ('partial_content', 'partial'),  \n",
    "207: ('multi_status', 'multiple_status', 'multi_stati', 'multiple_stati'),  \n",
    "208: ('already_reported',),  \n",
    "226: ('im_used',),  \n",
    "\n",
    "# 重定向状态码  \n",
    "300: ('multiple_choices',),  \n",
    "301: ('moved_permanently', 'moved', '\\\\o-'),  \n",
    "302: ('found',),  \n",
    "303: ('see_other', 'other'),  \n",
    "304: ('not_modified',),  \n",
    "305: ('use_proxy',),  \n",
    "306: ('switch_proxy',),  \n",
    "307: ('temporary_redirect', 'temporary_moved', 'temporary'),  \n",
    "308: ('permanent_redirect',  \n",
    "      'resume_incomplete', 'resume',), # These 2 to be removed in 3.0  \n",
    "\n",
    "# 客户端错误状态码  \n",
    "400: ('bad_request', 'bad'),  \n",
    "401: ('unauthorized',),  \n",
    "402: ('payment_required', 'payment'),  \n",
    "403: ('forbidden',),  \n",
    "404: ('not_found', '-o-'),  \n",
    "405: ('method_not_allowed', 'not_allowed'),  \n",
    "406: ('not_acceptable',),  \n",
    "407: ('proxy_authentication_required', 'proxy_auth', 'proxy_authentication'),  \n",
    "408: ('request_timeout', 'timeout'),  \n",
    "409: ('conflict',),  \n",
    "410: ('gone',),  \n",
    "411: ('length_required',),  \n",
    "412: ('precondition_failed', 'precondition'),  \n",
    "413: ('request_entity_too_large',),  \n",
    "414: ('request_uri_too_large',),  \n",
    "415: ('unsupported_media_type', 'unsupported_media', 'media_type'),  \n",
    "416: ('requested_range_not_satisfiable', 'requested_range', 'range_not_satisfiable'),  \n",
    "417: ('expectation_failed',),  \n",
    "418: ('im_a_teapot', 'teapot', 'i_am_a_teapot'),  \n",
    "421: ('misdirected_request',),  \n",
    "422: ('unprocessable_entity', 'unprocessable'),  \n",
    "423: ('locked',),  \n",
    "424: ('failed_dependency', 'dependency'),  \n",
    "425: ('unordered_collection', 'unordered'),  \n",
    "426: ('upgrade_required', 'upgrade'),  \n",
    "428: ('precondition_required', 'precondition'),  \n",
    "429: ('too_many_requests', 'too_many'),  \n",
    "431: ('header_fields_too_large', 'fields_too_large'),  \n",
    "444: ('no_response', 'none'),  \n",
    "449: ('retry_with', 'retry'),  \n",
    "450: ('blocked_by_windows_parental_controls', 'parental_controls'),  \n",
    "451: ('unavailable_for_legal_reasons', 'legal_reasons'),  \n",
    "499: ('client_closed_request',),  \n",
    "\n",
    "# 服务端错误状态码  \n",
    "500: ('internal_server_error', 'server_error', '/o\\\\', '✗'),  \n",
    "501: ('not_implemented',),  \n",
    "502: ('bad_gateway',),  \n",
    "503: ('service_unavailable', 'unavailable'),  \n",
    "504: ('gateway_timeout',),  \n",
    "505: ('http_version_not_supported', 'http_version'),  \n",
    "506: ('variant_also_negotiates',),  \n",
    "507: ('insufficient_storage',),  \n",
    "509: ('bandwidth_limit_exceeded', 'bandwidth'),  \n",
    "510: ('not_extended',),  \n",
    "511: ('network_authentication_required', 'network_auth', 'network_authentication')"
   ]
  },
  {
   "cell_type": "markdown",
   "metadata": {},
   "source": [
    "# 高级用法"
   ]
  },
  {
   "cell_type": "markdown",
   "metadata": {},
   "source": [
    "## 文件上传"
   ]
  },
  {
   "cell_type": "code",
   "execution_count": 15,
   "metadata": {},
   "outputs": [],
   "source": [
    "import requests\n",
    "\n",
    "files = {'file': open('E:/favicon.ico', 'rb')}\n",
    "r = requests.post('http://httpbin.org/post', files=files)\n",
    "# print(r.text)"
   ]
  },
  {
   "cell_type": "markdown",
   "metadata": {},
   "source": [
    "## Cookies"
   ]
  },
  {
   "cell_type": "code",
   "execution_count": 16,
   "metadata": {},
   "outputs": [
    {
     "name": "stdout",
     "output_type": "stream",
     "text": [
      "<RequestsCookieJar[<Cookie BDORZ=27315 for .baidu.com/>]>\n",
      "BDORZ=27315\n"
     ]
    }
   ],
   "source": [
    "import requests\n",
    "\n",
    "r = requests.get('http://www.baidu.com')\n",
    "print(r.cookies)\n",
    "for key, value in r.cookies.items():\n",
    "    print(key + '=' + value)"
   ]
  },
  {
   "cell_type": "markdown",
   "metadata": {},
   "source": [
    "示例：直接用 Cookie 来维持登录状态。首先我们登录 GitHub，然后将 Headers 中的 Cookie 内容复制下来。将自己的Cookie设置到 Headers 里面，然后发送请求。"
   ]
  },
  {
   "cell_type": "code",
   "execution_count": 19,
   "metadata": {},
   "outputs": [],
   "source": [
    "import requests\n",
    "\n",
    "headers = {\n",
    "    'Cookie':'_gh_sess=504H5EmtQ0KO4CEcBPd9zp2Dh859H7sL4SMcXKh1X%2FBQBDbNRB7szpki2mpFL1%2BWXrzhcAS9dhbWO2%2B4uJJGCartkm9S4el5zObLYtmFPgpSbfwP5km8yL440BRbBovtGyoqBzlulidoiOCEFqVEKwKxFcWJcKXvNtwqcuSnR7i26APuHmuEdGM8ur3uiy23w6rfMN3d4u7zPIlVXSjeEG%2FSoOCKGuNeV48iwrkAKktsC%2BYELMgLIBP7PwqjRBe1zsbnyGIeKdwKQC%2B%2Bz%2BU5l0vTx%2FdWHSeTQXaNl4OOLmGs6sxUFaaDbiTshVUan9y0%2FjbZEAjyeWfab1c%2FYNpx2VfOhC%2Bg3ZCKBOrkirWrKzUIpWpkrIdmG7nCy6RUCgSJROMFHyL%2BPXk6armpXtL37McZlyd4qx%2Fno4g33K%2Bi%2BkyHLvscW%2Fay0XYH74Y9XLZ%2BVfxUFuJQEztSd%2BH9%2BegjU9k5b5ZpsobbUVhfh8oL10VVi7VYhGI2rgGGxqvMztBIGRS2dXBb1RvWwLR5QLcAVGWAKp0zOVN0hZnUDya0b7qnrhGoVHDeIYvosNgOWjdx088AV89X8coZyQZ0gjBgfxI8dQFIq08qdcpKqZ3WWGmZSmxrvJUuvkTdEK%2BqSsHiULXpI%2B1tdFFtezrGyyQ6ilH0Qimiux9xBiCk5xow4ZzDTBj0cD7400LF2Qpgzjoz--SwEzziq7am4ijVOQ--3M4XpxgeOLbZvl3uxzSvUw%3D%3D; path=/; secure; HttpOnly; SameSite=Lax',\n",
    "    'User-Agent': 'Mozilla/5.0 (Macintosh; Intel Mac OS X 10_11_4) AppleWebKit/537.36 (KHTML, like Gecko) Chrome/53.0.2785.116 Safari/537.36',\n",
    "}\n",
    "r = requests.get('https://github.com/', headers=headers)\n",
    "# print(r.text)"
   ]
  },
  {
   "cell_type": "markdown",
   "metadata": {},
   "source": [
    "## Session 维持"
   ]
  },
  {
   "cell_type": "code",
   "execution_count": 20,
   "metadata": {},
   "outputs": [
    {
     "name": "stdout",
     "output_type": "stream",
     "text": [
      "{\n",
      "  \"cookies\": {\n",
      "    \"number\": \"123456789\"\n",
      "  }\n",
      "}\n",
      "\n"
     ]
    }
   ],
   "source": [
    "import requests\n",
    "\n",
    "s = requests.Session()\n",
    "s.get('http://httpbin.org/cookies/set/number/123456789')\n",
    "r = s.get('http://httpbin.org/cookies')\n",
    "print(r.text)"
   ]
  },
  {
   "cell_type": "markdown",
   "metadata": {},
   "source": [
    "## SSL 证书验证"
   ]
  },
  {
   "cell_type": "markdown",
   "metadata": {},
   "source": [
    "在浏览器中通过一些设置来忽略证书的验证。可以使用 verify 参数控制是否验证证书，如果将其设置为 False，在请求时就不会再验证证书是否有效。如果不加 verify 参数的话，默认值是 True，会自动验证。"
   ]
  },
  {
   "cell_type": "code",
   "execution_count": 24,
   "metadata": {},
   "outputs": [
    {
     "name": "stdout",
     "output_type": "stream",
     "text": [
      "200\n"
     ]
    }
   ],
   "source": [
    "import requests\n",
    "from requests.packages import urllib3\n",
    "\n",
    "urllib3.disable_warnings()\n",
    "response = requests.get('https://static1.scrape.cuiqingcai.com/', verify=False)\n",
    "print(response.status_code)"
   ]
  },
  {
   "cell_type": "markdown",
   "metadata": {},
   "source": [
    "## 超时设置"
   ]
  },
  {
   "cell_type": "markdown",
   "metadata": {},
   "source": [
    "在本机网络状况不好或者服务器网络响应延迟甚至无响应时，我们可能会等待很久才能收到响应，甚至到最后收不到响应而报错。为了防止服务器不能及时响应，应该设置一个超时时间，即超过了这个时间还没有得到响应，那就报错。"
   ]
  },
  {
   "cell_type": "code",
   "execution_count": 25,
   "metadata": {},
   "outputs": [
    {
     "name": "stdout",
     "output_type": "stream",
     "text": [
      "200\n"
     ]
    }
   ],
   "source": [
    "import requests\n",
    "\n",
    "r = requests.get('https://httpbin.org/get', timeout=1)\n",
    "print(r.status_code)"
   ]
  }
 ],
 "metadata": {
  "kernelspec": {
   "display_name": "Python 3",
   "language": "python",
   "name": "python3"
  },
  "language_info": {
   "codemirror_mode": {
    "name": "ipython",
    "version": 3
   },
   "file_extension": ".py",
   "mimetype": "text/x-python",
   "name": "python",
   "nbconvert_exporter": "python",
   "pygments_lexer": "ipython3",
   "version": "3.8.3"
  },
  "toc": {
   "base_numbering": 1,
   "nav_menu": {},
   "number_sections": true,
   "sideBar": true,
   "skip_h1_title": false,
   "title_cell": "Table of Contents",
   "title_sidebar": "Contents",
   "toc_cell": false,
   "toc_position": {},
   "toc_section_display": true,
   "toc_window_display": true
  }
 },
 "nbformat": 4,
 "nbformat_minor": 4
}
